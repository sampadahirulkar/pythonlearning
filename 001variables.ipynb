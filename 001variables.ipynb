{
  "nbformat": 4,
  "nbformat_minor": 0,
  "metadata": {
    "colab": {
      "name": "001variables.ipynb",
      "provenance": [],
      "authorship_tag": "ABX9TyOrqg+xtvxahbC2vFCJMQE2",
      "include_colab_link": true
    },
    "kernelspec": {
      "name": "python3",
      "display_name": "Python 3"
    }
  },
  "cells": [
    {
      "cell_type": "markdown",
      "metadata": {
        "id": "view-in-github",
        "colab_type": "text"
      },
      "source": [
        "<a href=\"https://colab.research.google.com/github/sampadahirulkar/pythonlearning/blob/main/001variables.ipynb\" target=\"_parent\"><img src=\"https://colab.research.google.com/assets/colab-badge.svg\" alt=\"Open In Colab\"/></a>"
      ]
    },
    {
      "cell_type": "code",
      "metadata": {
        "colab": {
          "base_uri": "https://localhost:8080/"
        },
        "id": "3vlSRzThlt8u",
        "outputId": "ae2ca25f-2bc6-4330-8dd7-3adc06295723"
      },
      "source": [
        "price = 10\r\n",
        "print(price)"
      ],
      "execution_count": null,
      "outputs": [
        {
          "output_type": "stream",
          "text": [
            "10\n"
          ],
          "name": "stdout"
        }
      ]
    },
    {
      "cell_type": "markdown",
      "metadata": {
        "id": "j7MtrYv1mTVp"
      },
      "source": [
        "python assigned the value 10 to 'price'"
      ]
    },
    {
      "cell_type": "code",
      "metadata": {
        "colab": {
          "base_uri": "https://localhost:8080/"
        },
        "id": "OO8pG-kRmhOx",
        "outputId": "216fc47d-6f9c-4ecb-d676-8f9514d1c6d6"
      },
      "source": [
        "price = 10\r\n",
        "price = 20\r\n",
        "print(price)"
      ],
      "execution_count": null,
      "outputs": [
        {
          "output_type": "stream",
          "text": [
            "20\n"
          ],
          "name": "stdout"
        }
      ]
    },
    {
      "cell_type": "markdown",
      "metadata": {
        "id": "hZrXMN4jmoKc"
      },
      "source": [
        "python first assigned the value 10, and then 20 (so finally 20) because python processes code line by line"
      ]
    }
  ]
}