{
  "nbformat": 4,
  "nbformat_minor": 0,
  "metadata": {
    "colab": {
      "name": "002receivinginput.ipynb",
      "provenance": [],
      "authorship_tag": "ABX9TyPvHotlNoso9e7zAGDH5JQ7",
      "include_colab_link": true
    },
    "kernelspec": {
      "name": "python3",
      "display_name": "Python 3"
    }
  },
  "cells": [
    {
      "cell_type": "markdown",
      "metadata": {
        "id": "view-in-github",
        "colab_type": "text"
      },
      "source": [
        "<a href=\"https://colab.research.google.com/github/sampadahirulkar/pythonlearning/blob/main/002receivinginput.ipynb\" target=\"_parent\"><img src=\"https://colab.research.google.com/assets/colab-badge.svg\" alt=\"Open In Colab\"/></a>"
      ]
    },
    {
      "cell_type": "code",
      "metadata": {
        "colab": {
          "base_uri": "https://localhost:8080/"
        },
        "id": "r-gIupJk9_Kg",
        "outputId": "060c5124-1ca3-44e3-f05d-1d6f9f757ba6"
      },
      "source": [
        "name = input('What is your name? ')\r\n",
        "print('Hi ' + name )\r\n",
        "\r\n",
        "colour = input('What is your favourite colour? ')\r\n",
        "print(name + ' likes ' + colour)"
      ],
      "execution_count": null,
      "outputs": [
        {
          "output_type": "stream",
          "text": [
            "What is your name? Sampada\n",
            "Hi Sampada\n",
            "What is your faveourite colour? Red\n",
            "Sampada likes Red\n"
          ],
          "name": "stdout"
        }
      ]
    }
  ]
}