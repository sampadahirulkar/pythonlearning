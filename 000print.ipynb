{
  "nbformat": 4,
  "nbformat_minor": 0,
  "metadata": {
    "colab": {
      "name": "000+print.ipynb",
      "provenance": [],
      "authorship_tag": "ABX9TyP62inEkqrJcpBG2PdNw3Vl",
      "include_colab_link": true
    },
    "kernelspec": {
      "name": "python3",
      "display_name": "Python 3"
    }
  },
  "cells": [
    {
      "cell_type": "markdown",
      "metadata": {
        "id": "view-in-github",
        "colab_type": "text"
      },
      "source": [
        "<a href=\"https://colab.research.google.com/github/sampadahirulkar/pythonlearning/blob/main/000print.ipynb\" target=\"_parent\"><img src=\"https://colab.research.google.com/assets/colab-badge.svg\" alt=\"Open In Colab\"/></a>"
      ]
    },
    {
      "cell_type": "code",
      "metadata": {
        "colab": {
          "base_uri": "https://localhost:8080/"
        },
        "id": "jmt8t4B0aCps",
        "outputId": "cf29d42a-22a2-4d7e-a553-70fbac6caa08"
      },
      "source": [
        "print(\"Sampada Hirulkar\")\r\n",
        "print('O----')\r\n",
        "print(' ||||')\r\n",
        "print('*' * 10)"
      ],
      "execution_count": null,
      "outputs": [
        {
          "output_type": "stream",
          "text": [
            "Sampada Hirulkar\n",
            "O----\n",
            " ||||\n",
            "**********\n"
          ],
          "name": "stdout"
        }
      ]
    }
  ]
}