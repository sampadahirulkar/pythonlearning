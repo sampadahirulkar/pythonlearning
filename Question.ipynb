{
  "nbformat": 4,
  "nbformat_minor": 0,
  "metadata": {
    "colab": {
      "name": "Question.ipynb",
      "provenance": [],
      "authorship_tag": "ABX9TyNRKXozicuJ08q5+AOJWLXr",
      "include_colab_link": true
    },
    "kernelspec": {
      "name": "python3",
      "display_name": "Python 3"
    }
  },
  "cells": [
    {
      "cell_type": "markdown",
      "metadata": {
        "id": "view-in-github",
        "colab_type": "text"
      },
      "source": [
        "<a href=\"https://colab.research.google.com/github/sampadahirulkar/pythonlearning/blob/main/Question.ipynb\" target=\"_parent\"><img src=\"https://colab.research.google.com/assets/colab-badge.svg\" alt=\"Open In Colab\"/></a>"
      ]
    },
    {
      "cell_type": "markdown",
      "metadata": {
        "id": "bAFnOXZn8pKW"
      },
      "source": [
        "\"We check a patient named John Smith.He is 20 years old and is a new patient.\"\r\n",
        "Make a file for his name, age, and ask if he is a new patient."
      ]
    },
    {
      "cell_type": "code",
      "metadata": {
        "id": "7nfCLO_69I7k"
      },
      "source": [
        "full_name = 'John Smith'\r\n",
        "age = 20\r\n",
        "is_new = True"
      ],
      "execution_count": 1,
      "outputs": []
    }
  ]
}